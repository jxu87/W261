{
 "cells": [
  {
   "cell_type": "code",
   "execution_count": 1,
   "metadata": {
    "collapsed": false
   },
   "outputs": [
    {
     "name": "stdout",
     "output_type": "stream",
     "text": [
      "Collecting pivottablejs\n",
      "  Downloading pivottablejs-0.1.0-py2.py3-none-any.whl\n",
      "Installing collected packages: pivottablejs\n",
      "Successfully installed pivottablejs-0.1.0\n"
     ]
    }
   ],
   "source": [
    "!pip install pivottablejs"
   ]
  },
  {
   "cell_type": "code",
   "execution_count": 2,
   "metadata": {
    "collapsed": false
   },
   "outputs": [
    {
     "name": "stdout",
     "output_type": "stream",
     "text": [
      "Collecting seaborn\n",
      "  Downloading seaborn-0.6.0.tar.gz (145kB)\n",
      "\u001b[K    100% |████████████████████████████████| 147kB 1.7MB/s \n",
      "\u001b[?25hInstalling collected packages: seaborn\n",
      "  Running setup.py install for seaborn\n",
      "Successfully installed seaborn-0.6.0\n"
     ]
    }
   ],
   "source": [
    "!pip install seaborn"
   ]
  },
  {
   "cell_type": "code",
   "execution_count": 3,
   "metadata": {
    "collapsed": false
   },
   "outputs": [
    {
     "name": "stdout",
     "output_type": "stream",
     "text": [
      "Collecting mpld3\n",
      "  Downloading mpld3-0.2.tar.gz (1.1MB)\n",
      "\u001b[K    100% |████████████████████████████████| 1.1MB 253kB/s \n",
      "\u001b[?25hInstalling collected packages: mpld3\n",
      "  Running setup.py install for mpld3\n",
      "Successfully installed mpld3-0.2\n"
     ]
    }
   ],
   "source": [
    "!pip install mpld3"
   ]
  },
  {
   "cell_type": "code",
   "execution_count": 4,
   "metadata": {
    "collapsed": false
   },
   "outputs": [
    {
     "name": "stdout",
     "output_type": "stream",
     "text": [
      "Collecting version-information\n",
      "  Downloading version_information-1.0.3.tar.gz\n",
      "Installing collected packages: version-information\n",
      "  Running setup.py install for version-information\n",
      "Successfully installed version-information-1.0.3\n"
     ]
    }
   ],
   "source": [
    "!pip install version_information"
   ]
  },
  {
   "cell_type": "code",
   "execution_count": 1,
   "metadata": {
    "collapsed": false
   },
   "outputs": [
    {
     "name": "stdout",
     "output_type": "stream",
     "text": [
      "Collecting qgrid\n",
      "  Downloading qgrid-0.2.0.tar.gz (68kB)\n",
      "\u001b[K    100% |████████████████████████████████| 69kB 1.9MB/s \n",
      "\u001b[?25hRequirement already satisfied (use --upgrade to upgrade): numpy in /anaconda/lib/python2.7/site-packages (from qgrid)\n",
      "Requirement already satisfied (use --upgrade to upgrade): pandas in /anaconda/lib/python2.7/site-packages (from qgrid)\n",
      "Requirement already satisfied (use --upgrade to upgrade): ipython[notebook] in /anaconda/lib/python2.7/site-packages (from qgrid)\n",
      "Requirement already satisfied (use --upgrade to upgrade): python-dateutil in /anaconda/lib/python2.7/site-packages (from pandas->qgrid)\n",
      "Requirement already satisfied (use --upgrade to upgrade): pytz>=2011k in /anaconda/lib/python2.7/site-packages (from pandas->qgrid)\n",
      "Requirement already satisfied (use --upgrade to upgrade): traitlets in /anaconda/lib/python2.7/site-packages (from ipython[notebook]->qgrid)\n",
      "Requirement already satisfied (use --upgrade to upgrade): pickleshare in /anaconda/lib/python2.7/site-packages (from ipython[notebook]->qgrid)\n",
      "Requirement already satisfied (use --upgrade to upgrade): simplegeneric>0.8 in /anaconda/lib/python2.7/site-packages (from ipython[notebook]->qgrid)\n",
      "Requirement already satisfied (use --upgrade to upgrade): decorator in /anaconda/lib/python2.7/site-packages (from ipython[notebook]->qgrid)\n",
      "Requirement already satisfied (use --upgrade to upgrade): gnureadline in /anaconda/lib/python2.7/site-packages (from ipython[notebook]->qgrid)\n",
      "Requirement already satisfied (use --upgrade to upgrade): appnope in /anaconda/lib/python2.7/site-packages (from ipython[notebook]->qgrid)\n",
      "Requirement already satisfied (use --upgrade to upgrade): pexpect in /anaconda/lib/python2.7/site-packages (from ipython[notebook]->qgrid)\n",
      "Requirement already satisfied (use --upgrade to upgrade): notebook in /anaconda/lib/python2.7/site-packages (from ipython[notebook]->qgrid)\n",
      "Requirement already satisfied (use --upgrade to upgrade): six>=1.5 in /anaconda/lib/python2.7/site-packages (from python-dateutil->pandas->qgrid)\n",
      "Requirement already satisfied (use --upgrade to upgrade): ipython-genutils in /anaconda/lib/python2.7/site-packages (from traitlets->ipython[notebook]->qgrid)\n",
      "Requirement already satisfied (use --upgrade to upgrade): path.py>=6.2 in /anaconda/lib/python2.7/site-packages (from pickleshare->ipython[notebook]->qgrid)\n",
      "Requirement already satisfied (use --upgrade to upgrade): ptyprocess>=0.5 in /anaconda/lib/python2.7/site-packages (from pexpect->ipython[notebook]->qgrid)\n",
      "Requirement already satisfied (use --upgrade to upgrade): tornado>=4 in /anaconda/lib/python2.7/site-packages (from notebook->ipython[notebook]->qgrid)\n",
      "Requirement already satisfied (use --upgrade to upgrade): jupyter-client in /anaconda/lib/python2.7/site-packages (from notebook->ipython[notebook]->qgrid)\n",
      "Requirement already satisfied (use --upgrade to upgrade): nbformat in /anaconda/lib/python2.7/site-packages (from notebook->ipython[notebook]->qgrid)\n",
      "Requirement already satisfied (use --upgrade to upgrade): jupyter-core in /anaconda/lib/python2.7/site-packages (from notebook->ipython[notebook]->qgrid)\n",
      "Requirement already satisfied (use --upgrade to upgrade): nbconvert in /anaconda/lib/python2.7/site-packages (from notebook->ipython[notebook]->qgrid)\n",
      "Requirement already satisfied (use --upgrade to upgrade): ipykernel in /anaconda/lib/python2.7/site-packages (from notebook->ipython[notebook]->qgrid)\n",
      "Requirement already satisfied (use --upgrade to upgrade): terminado>=0.3.3 in /anaconda/lib/python2.7/site-packages (from notebook->ipython[notebook]->qgrid)\n",
      "Requirement already satisfied (use --upgrade to upgrade): jinja2 in /anaconda/lib/python2.7/site-packages (from notebook->ipython[notebook]->qgrid)\n",
      "Requirement already satisfied (use --upgrade to upgrade): backports.ssl-match-hostname in /anaconda/lib/python2.7/site-packages (from tornado>=4->notebook->ipython[notebook]->qgrid)\n",
      "Requirement already satisfied (use --upgrade to upgrade): singledispatch in /anaconda/lib/python2.7/site-packages (from tornado>=4->notebook->ipython[notebook]->qgrid)\n",
      "Requirement already satisfied (use --upgrade to upgrade): certifi in /anaconda/lib/python2.7/site-packages (from tornado>=4->notebook->ipython[notebook]->qgrid)\n",
      "Requirement already satisfied (use --upgrade to upgrade): backports-abc>=0.4 in /anaconda/lib/python2.7/site-packages (from tornado>=4->notebook->ipython[notebook]->qgrid)\n",
      "Requirement already satisfied (use --upgrade to upgrade): pyzmq>=13 in /anaconda/lib/python2.7/site-packages (from jupyter-client->notebook->ipython[notebook]->qgrid)\n",
      "Requirement already satisfied (use --upgrade to upgrade): jsonschema!=2.5.0,>=2.0 in /anaconda/lib/python2.7/site-packages (from nbformat->notebook->ipython[notebook]->qgrid)\n",
      "Requirement already satisfied (use --upgrade to upgrade): pygments in /anaconda/lib/python2.7/site-packages (from nbconvert->notebook->ipython[notebook]->qgrid)\n",
      "Requirement already satisfied (use --upgrade to upgrade): mistune!=0.6 in /anaconda/lib/python2.7/site-packages (from nbconvert->notebook->ipython[notebook]->qgrid)\n",
      "Requirement already satisfied (use --upgrade to upgrade): MarkupSafe in /anaconda/lib/python2.7/site-packages (from jinja2->notebook->ipython[notebook]->qgrid)\n",
      "Requirement already satisfied (use --upgrade to upgrade): functools32 in /anaconda/lib/python2.7/site-packages (from jsonschema!=2.5.0,>=2.0->nbformat->notebook->ipython[notebook]->qgrid)\n",
      "Installing collected packages: qgrid\n",
      "  Running setup.py install for qgrid ... \u001b[?25l-\b \bdone\n",
      "\u001b[?25hSuccessfully installed qgrid-0.2.0\n"
     ]
    }
   ],
   "source": [
    "!pip install qgrid"
   ]
  },
  {
   "cell_type": "code",
   "execution_count": null,
   "metadata": {
    "collapsed": true
   },
   "outputs": [],
   "source": []
  }
 ],
 "metadata": {
  "kernelspec": {
   "display_name": "Python 2",
   "language": "python",
   "name": "python2"
  },
  "language_info": {
   "codemirror_mode": {
    "name": "ipython",
    "version": 2
   },
   "file_extension": ".py",
   "mimetype": "text/x-python",
   "name": "python",
   "nbconvert_exporter": "python",
   "pygments_lexer": "ipython2",
   "version": "2.7.10"
  }
 },
 "nbformat": 4,
 "nbformat_minor": 0
}
