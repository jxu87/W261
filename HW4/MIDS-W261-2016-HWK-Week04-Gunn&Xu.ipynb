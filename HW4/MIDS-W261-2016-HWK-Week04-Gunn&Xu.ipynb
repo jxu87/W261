{
 "cells": [
  {
   "cell_type": "markdown",
   "metadata": {
    "collapsed": true
   },
   "source": [
    "# DATSCIW261 ASSIGNMENT #4"
   ]
  },
  {
   "cell_type": "markdown",
   "metadata": {},
   "source": [
    "Angela Gunn, Jing Xu\n",
    "\n",
    "angela@egunn.com, jaling@gmail.com\n",
    "\n",
    "W261-3\n",
    "\n",
    "DATSCIW261 Assignment #4\n",
    "\n",
    "2/10/16"
   ]
  },
  {
   "cell_type": "markdown",
   "metadata": {},
   "source": [
    "## **HW4.0**"
   ]
  },
  {
   "cell_type": "markdown",
   "metadata": {},
   "source": [
    "**What is MrJob?**\n",
    "\n",
    "MRJob is a Python package for running Hadoop streaming jobs developed by Yelp in 2010. The motivation for its development was a desire for a better parallel solution across multiple machines. The goals for the framework are: \n",
    "1. Simplicity and a pseudo-code syntax       \n",
    "2. Flexibility and generality  \n",
    "3. Easy installation   \n",
    "4. Performance  \n",
    "\n",
    "MRJob assists in producing data pipelines and multistep jobs that feed once MapReduce output directly as input into the next MapReduce job, and then submitting the multistep job to Hadoop job tracker. Some other features are an abstracted MapReduce Interface, the ability to handle complex Python objects, acceptance of a variety of input formats (text based, binary with pickled objects), AWS integration, easy to run locally, and a strong community of developers and contributors.  \n",
    "\n",
    "**How is it different to Hadoop MapReduce?** \n",
    "\n",
    "Hadoop MapReduce is a framework to process large data sets with programs running in a distributed and fault tolerant way. Hadoop MapReduce is just one framework that MRJob can run on. MrJob is a python wrapper over hadoop streaming API to provide a consistent interface to run programs on a variety of environments, be it local, hadoop cluster or AWS EMR without changing the code.\n",
    "\n",
    "**What are the mapper_init(), mapper_final(), combiner_final(), reducer_final() methods? When are they called?**\n",
    "\n",
    "*mapper_init()* is used to define the actions needed to set up the mapping algorithm, and is the called before the mapper function processes any input. This may include loading file information needed for the mapping step. It runs before the mapper function.  \n",
    "*mapper_final()* is used to define an action to be run after the mapepr function reaches the end of the inputs.  \n",
    "*combiner_final()* defines the actions necessary to clean up the combiner algorithms, running after the combiner finishes its execution.  \n",
    "*reducer_final()* defines the actions necessary to clean up the combiner algorithms, running after the reducer finishes its execution.  "
   ]
  },
  {
   "cell_type": "markdown",
   "metadata": {},
   "source": [
    "## **HW4.1**"
   ]
  },
  {
   "cell_type": "markdown",
   "metadata": {},
   "source": [
    "**What is serialization in the context of MrJob or Hadoop?** \n",
    "\n",
    "Serialization is the process of converting an object into a stream of bytes in order to transmit it over a network into memory for interprocess communication or to persistent storage. The purpose is to save the state of an object until it is needed again. Text processing is slow, and incurs extra storage and networks costs, so serialization is method of more efficient communication and storage. The reverse process is called deserialization.\n",
    "\n",
    "**When it used in these frameworks?** \n",
    "\n",
    "In these frameworks, serialization enables the data to be compacted into binary format so large data sets can be transferred over the network and consumed by various programming languages. It is used between the tasks of a mapreduce job such as map, combine and reduce.\n",
    "\n",
    "**What is the default serialization mode for input and outputs for MrJob?**\n",
    "\n",
    "The default serialization mode in MRJob for input is RawValueProtocol (raw text value). The output is JSONProtocol (in JSON format)."
   ]
  },
  {
   "cell_type": "markdown",
   "metadata": {},
   "source": [
    "## **HW4.2**"
   ]
  },
  {
   "cell_type": "markdown",
   "metadata": {},
   "source": [
    "Recall the Microsoft logfiles data from the async lecture. The logfiles are described are located at:\n",
    "\n",
    "https://kdd.ics.uci.edu/databases/msweb/msweb.html http://archive.ics.uci.edu/ml/machine-learning-databases/anonymous/\n",
    "\n",
    "This dataset records which areas (Vroots) of www.microsoft.com each user visited in a one-week timeframe in Feburary 1998.\n",
    "\n",
    "Here, you must preprocess the data on a single node (i.e., not on a cluster of nodes) from the format:\n",
    "\n",
    "C,\"10001\",10001 #Visitor id 10001\n",
    "\n",
    "V,1000,1 #Visit by Visitor 10001 to page id 1000\n",
    "\n",
    "V,1001,1 #Visit by Visitor 10001 to page id 1001\n",
    "\n",
    "V,1002,1 #Visit by Visitor 10001 to page id 1002\n",
    "\n",
    "C,\"10002\",10002 #Visitor id 10001\n",
    "\n",
    "V\n",
    "\n",
    "Note: #denotes comments to the format:\n",
    "\n",
    "V,1000,1,C, 10001\n",
    "\n",
    "V,1001,1,C, 10001\n",
    "\n",
    "V,1002,1,C, 10001"
   ]
  },
  {
   "cell_type": "markdown",
   "metadata": {},
   "source": [
    "**Write the python code to accomplish this**"
   ]
  },
  {
   "cell_type": "code",
   "execution_count": 1,
   "metadata": {
    "collapsed": false
   },
   "outputs": [
    {
     "name": "stdout",
     "output_type": "stream",
     "text": [
      "Overwriting log_preprocess_42.py\n"
     ]
    }
   ],
   "source": [
    "%%writefile log_preprocess_42.py\n",
    "#!/usr/bin/python\n",
    "## log_preprocess_42.py\n",
    "## Author: Angela Gunn & Jing Xu\n",
    "## Description: Proprocesses log data on a single node\n",
    "import sys\n",
    "import os\n",
    "\n",
    "if len(sys.argv) < 2:\n",
    "    print \"No input file is passed, Aborting!!!\"\n",
    "    sys.exit(1)\n",
    "\n",
    "input_file = sys.argv[1]\n",
    "output_file = input_file + '.pp'\n",
    "\n",
    "try:\n",
    "    os.remove(output_file)\n",
    "except OSError:\n",
    "    pass\n",
    "\n",
    "last_visitor = None #set last visitor value to append to output file\n",
    "with open(input_file, 'r') as f1: #open input file to read\n",
    "    with open(output_file, 'a') as f2: #open ouput file to write\n",
    "        for line in f1:\n",
    "            line = line.strip()\n",
    "            tokens = line.split(\",\")\n",
    "            if len(tokens) == 3 and tokens[0] == 'C': #check for Visitor ID\n",
    "                last_visitor = tokens[2]  #set last visitor to new Visitor ID\n",
    "            if len(tokens) == 3 and tokens[0] == 'V': #check for Page ID\n",
    "                out_line = 'V,{0},C,{1}\\n'.format(tokens[1],last_visitor)\n",
    "                f2.write(out_line)    \n",
    "    "
   ]
  },
  {
   "cell_type": "code",
   "execution_count": 2,
   "metadata": {
    "collapsed": false
   },
   "outputs": [],
   "source": [
    "!chmod a+x log_preprocess_42.py"
   ]
  },
  {
   "cell_type": "code",
   "execution_count": 3,
   "metadata": {
    "collapsed": false
   },
   "outputs": [],
   "source": [
    "!python log_preprocess_42.py anonymous-msweb.data "
   ]
  },
  {
   "cell_type": "code",
   "execution_count": 4,
   "metadata": {
    "collapsed": false
   },
   "outputs": [
    {
     "name": "stdout",
     "output_type": "stream",
     "text": [
      "first 10 lines\n",
      "V,1000,C, 10001\n",
      "V,1001,C, 10001\n",
      "V,1002,C, 10001\n",
      "V,1001,C, 10002\n",
      "V,1003,C, 10002\n",
      "V,1001,C, 10003\n",
      "V,1003,C, 10003\n",
      "V,1004,C, 10003\n",
      "V,1005,C, 10004\n",
      "V,1006,C, 10005\n",
      "last 10 lines\n",
      "V,1123,C, 42708\n",
      "V,1038,C, 42708\n",
      "V,1026,C, 42708\n",
      "V,1041,C, 42708\n",
      "V,1001,C, 42709\n",
      "V,1003,C, 42709\n",
      "V,1035,C, 42710\n",
      "V,1001,C, 42710\n",
      "V,1018,C, 42710\n",
      "V,1008,C, 42711\n"
     ]
    }
   ],
   "source": [
    "!echo \"first 10 lines\"\n",
    "!head -n 10 anonymous-msweb.data.pp\n",
    "!echo \"last 10 lines\"\n",
    "!tail -n 10 anonymous-msweb.data.pp"
   ]
  },
  {
   "cell_type": "markdown",
   "metadata": {},
   "source": [
    "## HW 4.3\n",
    "\n",
    "**Find the 5 most frequently visited pages using MrJob from the output of 4.2 (i.e., transfromed log file)**"
   ]
  },
  {
   "cell_type": "code",
   "execution_count": 5,
   "metadata": {
    "collapsed": false
   },
   "outputs": [
    {
     "name": "stdout",
     "output_type": "stream",
     "text": [
      "Overwriting top_pages_43.py\n"
     ]
    }
   ],
   "source": [
    "%%writefile top_pages_43.py\n",
    "## top_pages_43.py\n",
    "## Author: Angela Gunn & Jing Xu\n",
    "## Description: Find 5 most frequently visited pages from the log\n",
    "\n",
    "from mrjob.job import MRJob\n",
    "from mrjob.step import MRStep\n",
    "import csv\n",
    "\n",
    "def csv_readline(line):\n",
    "    \"\"\"Given a sting CSV line, return a list of strings.\"\"\"\n",
    "    for row in csv.reader([line]):\n",
    "        return row\n",
    "\n",
    "class TopPages(MRJob):\n",
    "    \n",
    "    top5 = {} #initialize top5 dictionary\n",
    "\n",
    "    def steps(self):\n",
    "        return [MRStep(mapper = self.mapper,\n",
    "                    combiner = self.combiner,\n",
    "                    reducer = self.reducer),\n",
    "                MRStep(reducer = self.output_find_top_5)]\n",
    "\n",
    "    def mapper(self, line_no, line):\n",
    "        #Extracts the Vroot that was visited\n",
    "        line = line.strip(' ')\n",
    "        cell = csv_readline(line)\n",
    "        yield cell[1],1 \n",
    "\n",
    "    def combiner(self, vroot, visit_counts):\n",
    "        #combines the visits\n",
    "        total = sum(visit_counts)\n",
    "        yield vroot, total\n",
    "        \n",
    "    def reducer(self, vroot, visit_counts): #Sumarizes the visit counts by adding them together.\n",
    "        #combines the visits, and adds vroot to top5 dictionary if qualified\n",
    "        total = sum(visit_counts)\n",
    "        if len(self.top5) < 5:            #less than 5 items, so add\n",
    "            self.top5[vroot] = total\n",
    "        else:    \n",
    "            #must find the smallest item; if smaller than the new item, delete it and add new item.\n",
    "            top_min = min(self.top5, key=self.top5.get)\n",
    "            if total >= self.top5[top_min]:\n",
    "                del self.top5[top_min]\n",
    "                self.top5[vroot] = total\n",
    "        yield vroot, total\n",
    "    #end def reducer        \n",
    "    \n",
    "    def output_find_top_5(self, vroot, visit_counts):\n",
    "        #outputs the results of our top 5\n",
    "        if len(self.top5) > 0:\n",
    "            top_max = max(self.top5, key=self.top5.get)\n",
    "            yield top_max, self.top5.pop(top_max)\n",
    "\n",
    "if __name__ == '__main__':\n",
    "    TopPages.run()"
   ]
  },
  {
   "cell_type": "code",
   "execution_count": 6,
   "metadata": {
    "collapsed": true
   },
   "outputs": [],
   "source": [
    "!chmod a+x top_pages_43.py"
   ]
  },
  {
   "cell_type": "code",
   "execution_count": 7,
   "metadata": {
    "collapsed": false
   },
   "outputs": [
    {
     "name": "stderr",
     "output_type": "stream",
     "text": [
      "WARNING:mrjob.runner:\n",
      "WARNING:mrjob.runner:PLEASE NOTE: Starting in mrjob v0.5.0, protocols will be strict by default. It's recommended you run your job with --strict-protocols or set up mrjob.conf as described at https://pythonhosted.org/mrjob/whats-new.html#ready-for-strict-protocols\n",
      "WARNING:mrjob.runner:\n"
     ]
    },
    {
     "name": "stdout",
     "output_type": "stream",
     "text": [
      "('1008', 10836)\n",
      "('1034', 9383)\n",
      "('1004', 8463)\n",
      "('1018', 5330)\n",
      "('1017', 5108)\n"
     ]
    }
   ],
   "source": [
    "%reload_ext autoreload\n",
    "%autoreload 2\n",
    "from top_pages_43 import TopPages\n",
    "import csv\n",
    "\n",
    "mr_job = TopPages(args=['anonymous-msweb.data.pp'])\n",
    "with mr_job.make_runner() as runner:\n",
    "    runner.run()\n",
    "    for line in runner.stream_output():\n",
    "        print mr_job.parse_output_line(line)"
   ]
  },
  {
   "cell_type": "markdown",
   "metadata": {},
   "source": [
    "## HW 4.4\n",
    "\n",
    "**Find the most frequent visitor of each page using MrJob and the output of 4.2 (i.e., transfromed log file). In this output please include the webpage URL, webpageID and Visitor ID.**"
   ]
  },
  {
   "cell_type": "code",
   "execution_count": 8,
   "metadata": {
    "collapsed": false
   },
   "outputs": [
    {
     "name": "stdout",
     "output_type": "stream",
     "text": [
      "url.txt\r\n"
     ]
    }
   ],
   "source": [
    "# Create a file with only URL(s), i.e. records starting with 'A'\n",
    "!rm -v url.txt\n",
    "!grep ^A anonymous-msweb.data > url.txt"
   ]
  },
  {
   "cell_type": "code",
   "execution_count": 28,
   "metadata": {
    "collapsed": false,
    "scrolled": true
   },
   "outputs": [
    {
     "name": "stdout",
     "output_type": "stream",
     "text": [
      "Overwriting top_visitor_44.py\n"
     ]
    }
   ],
   "source": [
    "%%writefile top_visitor_44.py\n",
    "## top_visitor_44.py\n",
    "## Author: Angela Gunn & Jing Xu\n",
    "## Description: Find most frequent visitor for each page from the log\n",
    "\n",
    "from mrjob.job import MRJob\n",
    "from mrjob.step import MRStep\n",
    "import csv\n",
    "\n",
    "def csv_readline(line):\n",
    "    \"\"\"Given a sting CSV line, return a list of strings.\"\"\"\n",
    "    for row in csv.reader([line]):\n",
    "        return row\n",
    "\n",
    "class TopVisitor(MRJob):\n",
    "    \n",
    "    top_page_visitor = {}\n",
    "    \n",
    "    def steps(self):\n",
    "        return [MRStep(mapper = self.mapper,\n",
    "                    combiner = self.combiner,\n",
    "                    reducer = self.reducer),\n",
    "                MRStep(reducer = self.reducer_frequent_visitor)]\n",
    "\n",
    "    def mapper(self, line_no, line):\n",
    "        #Extracts the Vroot that was visited\n",
    "        line = line.strip(' ')\n",
    "        cell = csv_readline(line)\n",
    "        yield (cell[1],cell[3]),1 \n",
    "\n",
    "    def combiner(self, key, visit_counts):\n",
    "        #combines the visits\n",
    "        total = sum(visit_counts)\n",
    "        yield key, total\n",
    "        \n",
    "    def reducer(self, key, visit_counts): #Sumarizes the visit counts by adding them together.\n",
    "        #combines the visits, and adds the key to top_page_visitor dictionary if qualified\n",
    "        total = sum(visit_counts)\n",
    "        page = key[0]\n",
    "        visitor = key[1][1:]\n",
    "        top_count = int(self.top_page_visitor.get(page,(visitor,0))[1]) #assign top_count value\n",
    "        if top_count < total:\n",
    "            self.top_page_visitor[page] = (visitor,total)        \n",
    "        yield page, total    \n",
    "    #end def reducer        \n",
    "    \n",
    "    def reducer_frequent_visitor(self, page, visit_counts):\n",
    "        with open('url.txt','r') as f:\n",
    "            for line in f:\n",
    "                cell = csv_readline(line)\n",
    "                if cell[1] == page:\n",
    "                    key = \"{0:>4}|{1:>5}|\".format(page,self.top_page_visitor[page][0]) \n",
    "                    break\n",
    "        yield key, self.top_page_visitor[page][1]\n",
    "\n",
    "if __name__ == '__main__':\n",
    "    TopVisitor.run()"
   ]
  },
  {
   "cell_type": "code",
   "execution_count": 29,
   "metadata": {
    "collapsed": false
   },
   "outputs": [],
   "source": [
    "!chmod a+x top_visitor_44.py"
   ]
  },
  {
   "cell_type": "code",
   "execution_count": 30,
   "metadata": {
    "collapsed": false
   },
   "outputs": [
    {
     "name": "stderr",
     "output_type": "stream",
     "text": [
      "WARNING:mrjob.runner:\n",
      "WARNING:mrjob.runner:PLEASE NOTE: Starting in mrjob v0.5.0, protocols will be strict by default. It's recommended you run your job with --strict-protocols or set up mrjob.conf as described at https://pythonhosted.org/mrjob/whats-new.html#ready-for-strict-protocols\n",
      "WARNING:mrjob.runner:\n"
     ]
    }
   ],
   "source": [
    "# Running mrjob using a Hadoop Runner in local cluster\n",
    "%reload_ext autoreload\n",
    "%autoreload 2\n",
    "from top_visitor_44 import TopVisitor\n",
    "import os\n",
    "\n",
    "# Passing Hadoop Streaming parameters to:\n",
    "# partition by leftmost part of composite key\n",
    "# secodary sort by rightmost part of the same composite key\n",
    "\n",
    "mr_job = TopVisitor(args=['anonymous-msweb.data.pp', \n",
    "                        '--file', 'url.txt'])\n",
    "\n",
    "os.chdir(r'/Users/JingXu/Dropbox/DataScience/W261/W261/HW4')\n",
    "\n",
    "output_file = \"output_hw52.txt\"\n",
    "try:\n",
    "    os.remove(output_file)\n",
    "except OSError:\n",
    "    pass\n",
    "\n",
    "with mr_job.make_runner() as runner, open(output_file, 'a') as f: \n",
    "    runner.run()\n",
    "    # stream_output: get access of the output \n",
    "    for line in runner.stream_output():\n",
    "        line = line.replace('\"', \"\")\n",
    "        #print mr_job.parse_output_line(line)\n",
    "        f.write(str(line))"
   ]
  },
  {
   "cell_type": "code",
   "execution_count": 21,
   "metadata": {
    "collapsed": false
   },
   "outputs": [
    {
     "name": "stdout",
     "output_type": "stream",
     "text": [
      "Note: listing first user with max visits for each page\n",
      "                 url    page_id   visitor    visits\n",
      "             /regwiz|1000|10001\t1\n",
      "            /support|1001|10001\t1\n",
      "             /athome|1002|10001\t1\n",
      "                 /kb|1003|10002\t1\n",
      "             /search|1004|10003\t1\n",
      "              /norge|1005|10004\t1\n",
      "               /misc|1006|10005\t1\n",
      "            /ie_intl|1007|10007\t1\n",
      "         /msdownload|1008|10009\t1\n",
      "            /windows|1009|10009\t1\n",
      "             /vbasic|1010|10010\t1\n",
      "          /officedev|1011|10010\t1\n",
      "         /outlookdev|1012|10010\t1\n",
      "      /vbasicsupport|1013|10010\t1\n",
      "    /officefreestuff|1014|10010\t1\n",
      "            /msexcel|1015|10011\t1\n",
      "              /excel|1016|10011\t1\n",
      "           /products|1017|10011\t1\n",
      "              /isapi|1018|10011\t1\n",
      "       /mspowerpoint|1019|10011\t1\n",
      "               /msdn|1020|10012\t1\n",
      "            /visualc|1021|10012\t1\n",
      "           /truetype|1022|10013\t1\n",
      "              /spain|1023|10014\t1\n",
      "                /iis|1024|10015\t1\n",
      "            /gallery|1025|10016\t1\n",
      "        /sitebuilder|1026|10016\t1\n",
      "             /intdev|1027|10017\t1\n",
      "             /oledev|1028|10017\t1\n",
      "    /clipgallerylive|1029|10019\t1\n",
      "           /ntserver|1030|10019\t1\n",
      "           /msoffice|1031|10019\t1\n",
      "              /games|1032|10019\t1\n",
      "          /logostore|1033|10019\t1\n",
      "                 /ie|1034|10020\t1\n",
      "     /windowssupport|1035|10021\t1\n",
      "      /organizations|1036|10021\t1\n",
      "          /windows95|1037|10021\t1\n",
      "          /sbnmember|1038|10021\t1\n",
      "                /isp|1039|10021\t1\n",
      "             /office|1040|10021\t1\n",
      "           /workshop|1041|10021\t1\n",
      "            /vstudio|1042|10021\t1\n",
      "           /smallbiz|1043|10021\t1\n",
      "           /mediadev|1044|10024\t1\n",
      "         /netmeeting|1045|10025\t1\n",
      "          /iesupport|1046|10027\t1\n",
      "          /publisher|1048|10030\t1\n",
      "         /supportnet|1049|10031\t1\n",
      "          /macoffice|1050|10032\t1\n",
      "       /scheduleplus|1051|10035\t1\n",
      "               /word|1052|10035\t1\n",
      "            /visualj|1053|10035\t1\n",
      "           /exchange|1054|10036\t1\n",
      "               /kids|1055|10037\t1\n",
      "             /sports|1056|10037\t1\n",
      "         /powerpoint|1057|10038\t1\n",
      "           /referral|1058|10039\t1\n",
      "            /sverige|1059|10047\t1\n",
      "             /msword|1060|10053\t1\n",
      "              /promo|1061|10058\t1\n",
      "           /msaccess|1062|10065\t1\n",
      "           /intranet|1063|10067\t1\n",
      "     /activeplatform|1064|10068\t1\n",
      "               /java|1065|10068\t1\n",
      "      /musicproducer|1066|10068\t1\n",
      "          /frontpage|1067|10068\t1\n",
      "           /vbscript|1068|10068\t1\n",
      "          /windowsce|1069|10068\t1\n",
      "            /activex|1070|10068\t1\n",
      "            /automap|1071|10068\t1\n",
      "          /vinterdev|1072|10068\t1\n",
      "             /taiwan|1073|10078\t1\n",
      "      /ntworkstation|1074|10085\t1\n",
      "               /jobs|1075|10104\t1\n",
      "       /ntwkssupport|1076|10107\t1\n",
      "    /msofficesupport|1077|10109\t1\n",
      "    /ntserversupport|1078|10122\t1\n",
      "          /australia|1079|10122\t1\n",
      "             /brasil|1080|10126\t1\n",
      "          /accessdev|1081|10127\t1\n",
      "             /access|1082|10127\t1\n",
      "    /msaccesssupport|1083|10127\t1\n",
      "                 /uk|1084|10132\t1\n",
      "    /exchangesupport|1085|10132\t1\n",
      "                /oem|1086|10132\t1\n",
      "              /proxy|1087|10132\t1\n",
      "            /outlook|1088|10132\t1\n",
      "    /officereference|1089|10132\t1\n",
      "       /gamessupport|1090|10133\t1\n",
      "              /hwdev|1091|10142\t1\n",
      "            /vfoxpro|1092|10150\t1\n",
      "                /vba|1093|10156\t1\n",
      "             /mshome|1094|10156\t1\n",
      "            /catalog|1095|10156\t1\n",
      "            /mspress|1096|10156\t1\n",
      "              /latam|1097|10156\t1\n",
      "            /devonly|1098|10157\t1\n",
      "                /cio|1099|10159\t1\n",
      "          /education|1100|10165\t1\n",
      "              /oledb|1101|10166\t1\n",
      "     /homeessentials|1102|10168\t1\n",
      "              /works|1103|10168\t1\n",
      "                 /hk|1104|10191\t1\n",
      "             /france|1105|10197\t1\n",
      "                /cze|1106|10198\t1\n",
      "           /slovakia|1107|10198\t1\n",
      "        /teammanager|1108|10205\t1\n",
      "            /technet|1109|10205\t1\n",
      "          /mastering|1110|10208\t1\n",
      "              /ssafe|1111|10208\t1\n",
      "             /canada|1112|10208\t1\n",
      "           /security|1113|10215\t1\n",
      "             /servad|1114|10216\t1\n",
      "                /hun|1115|10216\t1\n",
      "        /switzerland|1116|10225\t1\n",
      "         /sidewinder|1117|10228\t1\n",
      "                /sql|1118|10235\t1\n",
      "           /corpinfo|1119|10240\t1\n",
      "             /switch|1120|10241\t1\n",
      "           /magazine|1121|10241\t1\n",
      "          /mindshare|1122|10243\t1\n",
      "            /germany|1123|10254\t1\n",
      "           /industry|1124|10263\t1\n",
      "      /imagecomposer|1125|10269\t1\n",
      "       /mediamanager|1126|10272\t1\n",
      "            /netshow|1127|10286\t1\n",
      "                /msf|1128|10286\t1\n",
      "                /ado|1129|10290\t1\n",
      "             /syspro|1130|10306\t1\n",
      "          /moneyzone|1131|10316\t1\n",
      "     /msmoneysupport|1132|10316\t1\n",
      "   /frontpagesupport|1133|10319\t1\n",
      "         /backoffice|1134|10335\t1\n",
      "      /mswordsupport|1135|10339\t1\n",
      "                /usa|1136|10348\t1\n",
      "             /mscorp|1137|10348\t1\n",
      "               /mind|1138|10351\t1\n",
      "               /k-12|1139|10362\t1\n",
      "        /netherlands|1140|10363\t1\n",
      "             /europe|1141|10372\t1\n",
      "        /southafrica|1142|10372\t1\n",
      "          /workshoop|1143|10381\t1\n",
      "            /devnews|1144|10406\t1\n",
      "     /vfoxprosupport|1145|10418\t1\n",
      "                /msp|1146|10429\t1\n",
      "               /msft|1147|10438\t1\n",
      "  /channel_resources|1148|10468\t1\n",
      "                /adc|1149|10471\t1\n",
      "           /infoserv|1150|10473\t1\n",
      "/mspowerpointsupport|1151|10482\t1\n",
      "                /rus|1152|10486\t1\n",
      "          /venezuela|1153|10500\t1\n",
      "            /project|1154|10564\t1\n",
      "           /sidewalk|1155|10606\t1\n",
      "            /powered|1156|10624\t1\n",
      "           /win32dev|1157|10627\t1\n",
      "             /imedia|1158|10632\t1\n",
      "        /transaction|1159|10661\t1\n",
      "     /visualcsupport|1160|10669\t1\n",
      "       /workssupport|1161|10677\t1\n",
      "    /infoservsupport|1162|10699\t1\n",
      "           /opentype|1163|10744\t1\n",
      "            /smsmgmt|1164|10752\t1\n",
      "             /poland|1165|10784\t1\n",
      "             /mexico|1166|10788\t1\n",
      "             /hwtest|1167|10791\t1\n",
      "          /salesinfo|1168|10797\t1\n",
      "          /msproject|1169|10797\t1\n",
      "               /mail|1170|10821\t1\n",
      "           /merchant|1171|10828\t1\n",
      "            /belgium|1172|10834\t1\n",
      "               /moli|1173|10842\t1\n",
      "                 /nz|1174|10866\t1\n",
      "   /msprojectsupport|1175|10888\t1\n",
      "            /jscript|1176|10932\t1\n",
      "             /events|1177|10951\t1\n",
      "        /msdownload.|1178|11008\t1\n",
      "           /colombia|1179|11027\t1\n",
      "          /slovenija|1180|11035\t1\n",
      "        /kidssupport|1181|11044\t1\n",
      "            /fortran|1182|11090\t1\n",
      "              /italy|1183|11111\t1\n",
      "     /msexcelsupport|1184|11134\t1\n",
      "                /sna|1185|11142\t1\n",
      "            /college|1186|11150\t1\n",
      "               /odbc|1187|11173\t1\n",
      "              /korea|1188|11190\t1\n",
      "           /internet|1189|11243\t1\n",
      "         /repository|1190|11287\t1\n",
      "         /management|1191|11331\t1\n",
      "     /visualjsupport|1192|11359\t1\n",
      "      /offdevsupport|1193|11367\t1\n",
      "              /china|1194|11372\t1\n",
      "           /portugal|1195|11429\t1\n",
      "               /ie40|1196|11431\t1\n",
      "         /sqlsupport|1197|11444\t1\n",
      "          /pictureit|1198|11482\t1\n",
      "           /feedback|1199|11644\t1\n",
      "            /benelux|1200|11674\t1\n",
      "           /hardware|1201|11800\t1\n",
      "            /advtech|1202|11802\t1\n",
      "            /danmark|1203|11806\t1\n",
      "     /msscheduleplus|1204|11904\t1\n",
      "    /hardwaresupport|1205|11917\t1\n",
      "             /select|1206|12011\t1\n",
      "                /icp|1207|12135\t1\n",
      "             /israel|1208|12177\t1\n",
      "             /turkey|1209|12239\t1\n",
      "         /snasupport|1210|12359\t1\n",
      "     /smsmgmtsupport|1211|12395\t1\n",
      "          /worldwide|1212|12421\t1\n",
      "/corporate_solutions|1213|12472\t1\n",
      "            /finserv|1214|12515\t1\n",
      "          /developer|1215|12577\t1\n",
      "               /vrml|1216|12666\t1\n",
      "            /ireland|1217|12675\t1\n",
      "   /publishersupport|1218|12714\t1\n",
      "                /ads|1219|12746\t1\n",
      "   /macofficesupport|1220|12795\t1\n",
      "               /mstv|1221|12815\t1\n",
      "              /msofc|1222|12819\t1\n",
      "            /finland|1223|12828\t1\n",
      "               /atec|1224|13041\t1\n",
      "             /piracy|1225|13061\t1\n",
      " /msschedplussupport|1226|13179\t1\n",
      "          /argentina|1227|13235\t1\n",
      "              /vtest|1228|13266\t1\n",
      "            /uruguay|1229|13510\t1\n",
      "        /mailsupport|1230|13541\t1\n",
      "    /win32devsupport|1231|13918\t1\n",
      "          /standards|1232|13926\t1\n",
      "          /vbscripts|1233|14363\t1\n",
      "           /off97cat|1234|14418\t1\n",
      "         /onlineeval|1235|14522\t1\n",
      "          /globaldev|1236|14738\t1\n",
      "            /devdays|1237|14764\t1\n",
      "           /exceldev|1238|15247\t1\n",
      "          /msconsult|1239|15361\t1\n",
      "           /thailand|1240|15461\t1\n",
      "              /india|1241|15820\t1\n",
      "           /msgarden|1242|16289\t1\n",
      "          /usability|1243|16904\t1\n",
      "            /devwire|1244|16967\t1\n",
      "                /ofc|1245|16999\t1\n",
      "           /gamesdev|1246|17120\t1\n",
      "          /wineguide|1247|18240\t1\n",
      "          /softimage|1248|18347\t1\n",
      "     /fortransupport|1249|18384\t1\n",
      "         /middleeast|1250|18534\t1\n",
      "   /referencesupport|1251|18941\t1\n",
      "             /giving|1252|19483\t1\n",
      "            /worddev|1253|19746\t1\n",
      "                /ie3|1254|20190\t1\n",
      "               /msmq|1255|20277\t1\n",
      "                /sia|1256|20832\t1\n",
      "          /devvideos|1257|21184\t1\n",
      "               /peru|1258|21399\t1\n",
      "           /controls|1259|21424\t1\n",
      "              /trial|1260|21894\t1\n",
      "           /diyguide|1261|22485\t1\n",
      "              /chile|1262|24951\t1\n",
      "           /services|1263|26122\t1\n",
      "        /se_partners|1264|26801\t1\n",
      "       /ssafesupport|1265|26811\t1\n",
      "           /licenses|1266|26815\t1\n",
      "          /caribbean|1267|27482\t1\n",
      "         /javascript|1268|27503\t1\n",
      "           /business|1269|28044\t1\n",
      "           /developr|1270|28493\t1\n",
      "               /mdsn|1271|28493\t1\n",
      "            /softlib|1272|28493\t1\n",
      "                /mdn|1273|28493\t1\n",
      "                /pdc|1274|28493\t1\n",
      "          /security.|1275|28903\t1\n",
      "       /vtestsupport|1276|29654\t1\n",
      "             /stream|1277|30111\t1\n",
      "                /hed|1278|30460\t1\n",
      "             /msgolf|1279|31062\t1\n",
      "              /music|1280|33424\t1\n",
      "       /intellimouse|1281|37099\t1\n",
      "               /home|1282|39877\t1\n",
      "          /cinemania|1283|41033\t1\n",
      "            /partner|1284|41108\t1\n",
      "         /train_cert|1295|10028\t1\n"
     ]
    }
   ],
   "source": [
    "!echo \"Note: listing first user with max visits for each page\"\n",
    "!echo \"                 url    page_id   visitor    visits\"\n",
    "!cat output_hw52.txt"
   ]
  },
  {
   "cell_type": "markdown",
   "metadata": {},
   "source": [
    "## HW 4.5\n",
    "\n",
    "**Here you will use a different dataset consisting of word-frequency distributions for 1,000 Twitter users. These Twitter users use language in very different ways, and were classified by hand according to the criteria:**\n",
    "\n",
    "0: Human, where only basic human-human communication is observed.\n",
    "\n",
    "1: Cyborg, where language is primarily borrowed from other sources\n",
    "(e.g., jobs listings, classifieds postings, advertisements, etc...).\n",
    "\n",
    "2: Robot, where language is formulaically derived from unrelated sources\n",
    "(e.g., weather/seismology, police/fire event logs, etc...).\n",
    "\n",
    "3: Spammer, where language is replicated to high multiplicity\n",
    "(e.g., celebrity obsessions, personal promotion, etc... )\n",
    "\n",
    "Check out the preprints of our recent research, which spawned this dataset:\n",
    "\n",
    "http://arxiv.org/abs/1505.04342\n",
    "http://arxiv.org/abs/1508.01843\n",
    "\n",
    "The main data lie in the accompanying file:\n",
    "\n",
    "topUsers_Apr-Jul_2014_1000-words.txt\n",
    "\n",
    "and are of the form:\n",
    "\n",
    "USERID,CODE,TOTAL,WORD1_COUNT,WORD2_COUNT,...\n",
    ". .\n",
    "\n",
    "where\n",
    "\n",
    "USERID = unique user identifier\n",
    "\n",
    "CODE = 0/1/2/3 class code\n",
    "\n",
    "TOTAL = sum of the word counts\n",
    "\n",
    "**Using this data, you will implement a 1000-dimensional K-means algorithm in MrJob on the users by their 1000-dimensional word stripes/vectors using several centroid initializations and values of K.**\n",
    "\n",
    "Note that each \"point\" is a user as represented by 1000 words, and that word-frequency distributions are generally heavy-tailed power-laws (often called Zipf distributions), and are very rare in the larger class of discrete, random distributions. For each user you will have to normalize by its \"TOTAL\" column. Try several parameterizations and initializations:\n",
    "\n",
    "(A) K=4 uniform random centroid-distributions over the 1000 words\n",
    "\n",
    "(B) K=2 perturbation-centroids, randomly perturbed from the aggregated (user-wide) distribution\n",
    "\n",
    "(C) K=4 perturbation-centroids, randomly perturbed from the aggregated (user-wide) distribution\n",
    "\n",
    "(D) K=4 \"trained\" centroids, determined by the sums across the classes.\n",
    "\n",
    "and iterate until a threshold (try 0.001) is reached.\n",
    "After convergence, print out a summary of the classes present in each cluster.\n",
    "In particular, report the composition as measured by the total portion of each class type (0-3) contained in each cluster, and discuss your findings and any differences in outcomes across parts A-D.\n",
    "\n",
    "Note that you do not have to compute the aggregated distribution or the class-aggregated distributions, which are rows in the auxiliary file:\n",
    "\n",
    "topUsers_Apr-Jul_2014_1000-words_summaries.txt\n",
    "\n",
    "**Functionality of MRJob**\n",
    "\n",
    "mapper_init: load latest centroids files before running the mapper\n",
    "\n",
    "mapper: read input stream and emit key = cluster index and value = tuple(features, class counts)\n",
    "\n",
    "combiner: read mapper output and combine features for the same cluster and aggregate class counts\n",
    "\n",
    "reducer: emit new centroid with class counts"
   ]
  },
  {
   "cell_type": "code",
   "execution_count": 12,
   "metadata": {
    "collapsed": false
   },
   "outputs": [
    {
     "name": "stdout",
     "output_type": "stream",
     "text": [
      "Overwriting Kmeans_45.py\n"
     ]
    }
   ],
   "source": [
    "%%writefile Kmeans_45.py\n",
    "#!/usr/bin/python\n",
    "## Kmeans_45.py\n",
    "## Author: Angela Gunn & Jing Xu\n",
    "## Description: Does kmeans\n",
    "\n",
    "import numpy as np\n",
    "from numpy import argmin, array, random\n",
    "from mrjob.job import MRJob\n",
    "from mrjob.step import MRJobStep\n",
    "from itertools import chain\n",
    "\n",
    "\n",
    "\n",
    "\n",
    "#Calculate find the nearest centroid for data point \n",
    "def MinDist(datapoint, centroid_points):\n",
    "    # calculate euclidean distance\n",
    "    euclidean_distance = np.sum((datapoint - centroid_points)**2, axis = 1)\n",
    "    # get the nearest centroid for each instance\n",
    "    minidx = np.argmin(euclidean_distance)\n",
    "    return minidx\n",
    "\n",
    "#Check whether centroids converge\n",
    "def stop_criterion(centroid_points_old, centroid_points_new,T):\n",
    "    return np.alltrue(abs(np.array(centroid_points_new) - np.array(centroid_points_old)) <= T)\n",
    "\n",
    "class MRKmeans(MRJob):\n",
    "    centroid_points=[]\n",
    "    CENTROID = \"Centroids.txt\"\n",
    "    #k=4    \n",
    "    def steps(self):\n",
    "        return [\n",
    "            MRJobStep(mapper_init = self.mapper_init, mapper=self.mapper,combiner = self.combiner,reducer=self.reducer)\n",
    "               ]\n",
    "    \n",
    "    #load centroids info from file\n",
    "    def mapper_init(self):\n",
    "        self.centroid_points = [map(float,s.split('\\n')[0].split(',')) for s in open(self.CENTROID).readlines()]\n",
    "        open(self.CENTROID, 'w').close()\n",
    "    \n",
    "    #load data and output the nearest centroid index and data point \n",
    "    # returns key = nearest centroid, values = tuple(features, class:1)\n",
    "    def mapper(self, _, line):\n",
    "        terms = line.strip().split(',')\n",
    "        userid = terms[0]\n",
    "        code = int(terms[1]) #what type of user\n",
    "        total = int(terms[2])\n",
    "        features = np.array([float(x) / total  for x in terms[3:]]) #normalize; features = words\n",
    "\n",
    "        # key    = centroid\n",
    "        # values = tuple(features, code:1)\n",
    "        yield int(MinDist(features, self.centroid_points)), (list(features), {code:1})\n",
    "    \n",
    "    #Combine sum of data points locally\n",
    "    # returns key = idx, values = tuple(features, class:n) where n is the new count\n",
    "    def combiner(self, idx, inputdata):\n",
    "        combine_features = None  #features = words\n",
    "        combine_codes = {}       #codes = class\n",
    "\n",
    "        for features, code in inputdata:  #for each input line, get the features (word counts) and the class info\n",
    "            features = np.array(features)\n",
    "            \n",
    "            # local aggregate of features\n",
    "            if combine_features is None:\n",
    "                combine_features = np.zeros(features.size)\n",
    "            combine_features += features\n",
    "\n",
    "            # count number of codes\n",
    "            for k, v in code.iteritems():\n",
    "                combine_codes[k] = combine_codes.get(k, 0) + v\n",
    "\n",
    "        yield idx, (list(combine_features), combine_codes)\n",
    "        \n",
    "    #Aggregate sum for each cluster and then calculate the new centroids\n",
    "    #same as reducer, but calculates new centroids as key instead of feature list.\n",
    "    def reducer(self, idx, inputdata): \n",
    "        combine_features = None  #features = words\n",
    "        combine_codes = {}       #codes = class\n",
    "        \n",
    "        for features, code in inputdata:  #for each input line, get the features (word counts) and the class info\n",
    "            features = np.array(features)\n",
    "\n",
    "            # local aggregate of features\n",
    "            if combine_features is None:\n",
    "                combine_features = np.zeros(features.size)\n",
    "            combine_features += features\n",
    "\n",
    "            # count number of codes\n",
    "            for k, v in code.iteritems():\n",
    "                combine_codes[k] = combine_codes.get(k, 0) + v\n",
    "\n",
    "        # new centroids\n",
    "        centroids = combine_features / sum(combine_codes.values())\n",
    "\n",
    "        yield idx, (list(centroids), combine_codes)\n",
    "\n",
    "if __name__ == '__main__':\n",
    "    MRKmeans.run()"
   ]
  },
  {
   "cell_type": "code",
   "execution_count": 13,
   "metadata": {
    "collapsed": true
   },
   "outputs": [],
   "source": [
    "!chmod a+x Kmeans_45.py"
   ]
  },
  {
   "cell_type": "markdown",
   "metadata": {},
   "source": [
    "**The below code is common for all questions for 4.5. It contains the function kmeans, which takes a value k (clusters), the centroid_points and the ultimate output file.**\n",
    "\n",
    "**The centroid_points is determined for each part of this question separately.**"
   ]
  },
  {
   "cell_type": "code",
   "execution_count": 14,
   "metadata": {
    "collapsed": true
   },
   "outputs": [],
   "source": [
    "%reload_ext autoreload\n",
    "%autoreload 2\n",
    "from numpy import random\n",
    "import numpy as np\n",
    "from Kmeans_45 import MRKmeans, stop_criterion\n",
    "\n",
    "THRESHOLD = 0.001\n",
    "CENTROIDS = \"Centroids.txt\"\n",
    "\n",
    "\n",
    "def kmeans(k, centroid_points, output_file):\n",
    "\n",
    "    mr_job = MRKmeans(args=['--file', output_file,\n",
    "                            '--file', CENTROIDS,\n",
    "                                '--jobconf', 'k={0}'.format(k),\n",
    "                                'topUsers_Apr-Jul_2014_1000-words.txt', '-v'])       \n",
    "\n",
    "\n",
    "    # Update centroids iteratively\n",
    "    i = 1\n",
    "    while(1):\n",
    "        # save previous centoids to check convergency\n",
    "        centroid_points_old = centroid_points\n",
    "\n",
    "        with mr_job.make_runner() as runner: \n",
    "            #print \"running iteration\" + str(i) + \":\"\n",
    "            runner.run()\n",
    "            centroid_points = []\n",
    "            clusters = {}\n",
    "\n",
    "            # stream_output: get access of the output \n",
    "            for line in runner.stream_output():\n",
    "                key, value =  mr_job.parse_output_line(line)\n",
    "                centroid, codes = value\n",
    "                centroid_points.append(centroid)\n",
    "                clusters[key] = codes\n",
    "\n",
    "        print \"working\" + \".\" * (i)\n",
    "        if(stop_criterion(centroid_points_old, centroid_points, THRESHOLD)):  \n",
    "            #Let's print some output!\n",
    "\n",
    "            # display statistics\n",
    "            print \"cluster distribution\"\n",
    "            print \"-\" * 80\n",
    "            print \"iteration # {}\".format(i)\n",
    "            codes = { 0:'Human', 1:'Cyborg', 2:'Robot', 3:'Spammer' }\n",
    "\n",
    "            human_total   = np.sum([clusters[k].get('0', 0) for k in clusters.keys()])\n",
    "            cyborg_total  = np.sum([clusters[k].get('1', 0) for k in clusters.keys()])\n",
    "            robot_total   = np.sum([clusters[k].get('2', 0) for k in clusters.keys()])\n",
    "            spammer_total = np.sum([clusters[k].get('3', 0) for k in clusters.keys()])\n",
    "\n",
    "            print \"-\" * 80\n",
    "            max_class = {}\n",
    "            print \"{0:>5} |{1:>12} (%) |{2:>12} (%) |{3:>12} (%) |{4:>12} (%)\".format(\"k\", \n",
    "                                                                                      str(human_total) + \" Human\",\n",
    "                                                                                      str(cyborg_total) + \" Cyborg\",\n",
    "                                                                                      str(robot_total) + \" Robot\",\n",
    "                                                                                      str(spammer_total) + \" Spammer\")\n",
    "            print \"-\" * 80\n",
    "            for cluster_id, cluster in clusters.iteritems():\n",
    "                total = sum(cluster.values())\n",
    "                print \"{0:>5} | {1:>5} ({2:6.2f}%) | {3:>5} ({4:6.2f}%) | {5:>5} ({6:6.2f}%) | {7:>5} ({8:6.2f}%)\".format(\n",
    "                    cluster_id, \n",
    "                    cluster.get('0', 0),\n",
    "                    float(cluster.get('0', 0))/human_total*100,\n",
    "                    cluster.get('1', 0),\n",
    "                    float(cluster.get('1', 0))/cyborg_total*100,\n",
    "                    cluster.get('2', 0),\n",
    "                    float(cluster.get('2', 0))/robot_total*100,\n",
    "                    cluster.get('3', 0),\n",
    "                    float(cluster.get('3', 0))/spammer_total*100\n",
    "                )\n",
    "                max_class[cluster_id] = max(cluster.values()) #for later determining purity\n",
    "            #end for\n",
    "            \n",
    "            #purity -> if we have perfect clusters, the sum of the max should equal 1000 (# of words)\n",
    "            purity = sum(max_class.values())/1000.0*100\n",
    "            print \"-\" * 80\n",
    "            print \"purity = {0:0.2f}%\".format(purity)\n",
    "            print \"-\" * 80\n",
    "            break\n",
    "\n",
    "        # write new centroids to file\n",
    "        with open(CENTROIDS, 'w') as f:\n",
    "            for centroid in centroid_points:\n",
    "                f.writelines(','.join(map(str, centroid)) + '\\n')\n",
    "        f.close()\n",
    "        i += 1"
   ]
  },
  {
   "cell_type": "markdown",
   "metadata": {},
   "source": [
    "### 4.5 A\n",
    "\n",
    "**K=4 uniform random centroid-distributions over the 1000 words**"
   ]
  },
  {
   "cell_type": "code",
   "execution_count": 15,
   "metadata": {
    "collapsed": false
   },
   "outputs": [
    {
     "name": "stderr",
     "output_type": "stream",
     "text": [
      "WARNING:mrjob.runner:\n",
      "WARNING:mrjob.runner:PLEASE NOTE: Starting in mrjob v0.5.0, protocols will be strict by default. It's recommended you run your job with --strict-protocols or set up mrjob.conf as described at https://pythonhosted.org/mrjob/whats-new.html#ready-for-strict-protocols\n",
      "WARNING:mrjob.runner:\n",
      "WARNING:mrjob.step:MRJobStep has been renamed to MRStep. The old name will be removed in v0.5.0.\n",
      "WARNING:mrjob.step:MRJobStep has been renamed to MRStep. The old name will be removed in v0.5.0.\n",
      "WARNING:mrjob.step:MRJobStep has been renamed to MRStep. The old name will be removed in v0.5.0.\n",
      "WARNING:mrjob.step:MRJobStep has been renamed to MRStep. The old name will be removed in v0.5.0.\n",
      "WARNING:mrjob.step:MRJobStep has been renamed to MRStep. The old name will be removed in v0.5.0.\n",
      "WARNING:mrjob.step:MRJobStep has been renamed to MRStep. The old name will be removed in v0.5.0.\n",
      "WARNING:mrjob.step:MRJobStep has been renamed to MRStep. The old name will be removed in v0.5.0.\n",
      "WARNING:mrjob.runner:\n",
      "WARNING:mrjob.runner:PLEASE NOTE: Starting in mrjob v0.5.0, protocols will be strict by default. It's recommended you run your job with --strict-protocols or set up mrjob.conf as described at https://pythonhosted.org/mrjob/whats-new.html#ready-for-strict-protocols\n",
      "WARNING:mrjob.runner:\n",
      "WARNING:mrjob.step:MRJobStep has been renamed to MRStep. The old name will be removed in v0.5.0.\n",
      "WARNING:mrjob.step:MRJobStep has been renamed to MRStep. The old name will be removed in v0.5.0.\n",
      "WARNING:mrjob.step:MRJobStep has been renamed to MRStep. The old name will be removed in v0.5.0.\n",
      "WARNING:mrjob.step:MRJobStep has been renamed to MRStep. The old name will be removed in v0.5.0.\n",
      "WARNING:mrjob.step:MRJobStep has been renamed to MRStep. The old name will be removed in v0.5.0.\n",
      "WARNING:mrjob.step:MRJobStep has been renamed to MRStep. The old name will be removed in v0.5.0.\n",
      "WARNING:mrjob.step:MRJobStep has been renamed to MRStep. The old name will be removed in v0.5.0.\n"
     ]
    },
    {
     "name": "stdout",
     "output_type": "stream",
     "text": [
      "working.\n",
      "working.."
     ]
    },
    {
     "name": "stderr",
     "output_type": "stream",
     "text": [
      "WARNING:mrjob.runner:\n",
      "WARNING:mrjob.runner:PLEASE NOTE: Starting in mrjob v0.5.0, protocols will be strict by default. It's recommended you run your job with --strict-protocols or set up mrjob.conf as described at https://pythonhosted.org/mrjob/whats-new.html#ready-for-strict-protocols\n",
      "WARNING:mrjob.runner:\n",
      "WARNING:mrjob.step:MRJobStep has been renamed to MRStep. The old name will be removed in v0.5.0.\n",
      "WARNING:mrjob.step:MRJobStep has been renamed to MRStep. The old name will be removed in v0.5.0.\n",
      "WARNING:mrjob.step:MRJobStep has been renamed to MRStep. The old name will be removed in v0.5.0.\n",
      "WARNING:mrjob.step:MRJobStep has been renamed to MRStep. The old name will be removed in v0.5.0.\n",
      "WARNING:mrjob.step:MRJobStep has been renamed to MRStep. The old name will be removed in v0.5.0.\n",
      "WARNING:mrjob.step:MRJobStep has been renamed to MRStep. The old name will be removed in v0.5.0.\n",
      "WARNING:mrjob.step:MRJobStep has been renamed to MRStep. The old name will be removed in v0.5.0.\n"
     ]
    },
    {
     "name": "stdout",
     "output_type": "stream",
     "text": [
      "\n",
      "working..."
     ]
    },
    {
     "name": "stderr",
     "output_type": "stream",
     "text": [
      "WARNING:mrjob.runner:\n",
      "WARNING:mrjob.runner:PLEASE NOTE: Starting in mrjob v0.5.0, protocols will be strict by default. It's recommended you run your job with --strict-protocols or set up mrjob.conf as described at https://pythonhosted.org/mrjob/whats-new.html#ready-for-strict-protocols\n",
      "WARNING:mrjob.runner:\n",
      "WARNING:mrjob.step:MRJobStep has been renamed to MRStep. The old name will be removed in v0.5.0.\n",
      "WARNING:mrjob.step:MRJobStep has been renamed to MRStep. The old name will be removed in v0.5.0.\n",
      "WARNING:mrjob.step:MRJobStep has been renamed to MRStep. The old name will be removed in v0.5.0.\n",
      "WARNING:mrjob.step:MRJobStep has been renamed to MRStep. The old name will be removed in v0.5.0.\n",
      "WARNING:mrjob.step:MRJobStep has been renamed to MRStep. The old name will be removed in v0.5.0.\n",
      "WARNING:mrjob.step:MRJobStep has been renamed to MRStep. The old name will be removed in v0.5.0.\n",
      "WARNING:mrjob.step:MRJobStep has been renamed to MRStep. The old name will be removed in v0.5.0.\n"
     ]
    },
    {
     "name": "stdout",
     "output_type": "stream",
     "text": [
      "\n",
      "working...."
     ]
    },
    {
     "name": "stderr",
     "output_type": "stream",
     "text": [
      "WARNING:mrjob.runner:\n",
      "WARNING:mrjob.runner:PLEASE NOTE: Starting in mrjob v0.5.0, protocols will be strict by default. It's recommended you run your job with --strict-protocols or set up mrjob.conf as described at https://pythonhosted.org/mrjob/whats-new.html#ready-for-strict-protocols\n",
      "WARNING:mrjob.runner:\n",
      "WARNING:mrjob.step:MRJobStep has been renamed to MRStep. The old name will be removed in v0.5.0.\n",
      "WARNING:mrjob.step:MRJobStep has been renamed to MRStep. The old name will be removed in v0.5.0.\n",
      "WARNING:mrjob.step:MRJobStep has been renamed to MRStep. The old name will be removed in v0.5.0.\n",
      "WARNING:mrjob.step:MRJobStep has been renamed to MRStep. The old name will be removed in v0.5.0.\n",
      "WARNING:mrjob.step:MRJobStep has been renamed to MRStep. The old name will be removed in v0.5.0.\n",
      "WARNING:mrjob.step:MRJobStep has been renamed to MRStep. The old name will be removed in v0.5.0.\n",
      "WARNING:mrjob.step:MRJobStep has been renamed to MRStep. The old name will be removed in v0.5.0.\n"
     ]
    },
    {
     "name": "stdout",
     "output_type": "stream",
     "text": [
      "\n",
      "working....."
     ]
    },
    {
     "name": "stderr",
     "output_type": "stream",
     "text": [
      "WARNING:mrjob.runner:\n",
      "WARNING:mrjob.runner:PLEASE NOTE: Starting in mrjob v0.5.0, protocols will be strict by default. It's recommended you run your job with --strict-protocols or set up mrjob.conf as described at https://pythonhosted.org/mrjob/whats-new.html#ready-for-strict-protocols\n",
      "WARNING:mrjob.runner:\n",
      "WARNING:mrjob.step:MRJobStep has been renamed to MRStep. The old name will be removed in v0.5.0.\n",
      "WARNING:mrjob.step:MRJobStep has been renamed to MRStep. The old name will be removed in v0.5.0.\n",
      "WARNING:mrjob.step:MRJobStep has been renamed to MRStep. The old name will be removed in v0.5.0.\n",
      "WARNING:mrjob.step:MRJobStep has been renamed to MRStep. The old name will be removed in v0.5.0.\n",
      "WARNING:mrjob.step:MRJobStep has been renamed to MRStep. The old name will be removed in v0.5.0.\n",
      "WARNING:mrjob.step:MRJobStep has been renamed to MRStep. The old name will be removed in v0.5.0.\n",
      "WARNING:mrjob.step:MRJobStep has been renamed to MRStep. The old name will be removed in v0.5.0.\n"
     ]
    },
    {
     "name": "stdout",
     "output_type": "stream",
     "text": [
      "\n",
      "working......\n",
      "cluster distribution\n",
      "--------------------------------------------------------------------------------\n",
      "iteration # 6\n",
      "--------------------------------------------------------------------------------\n",
      "    k |   752 Human (%) |   91 Cyborg (%) |    54 Robot (%) | 103 Spammer (%)\n",
      "--------------------------------------------------------------------------------\n",
      "    0 |   705 ( 93.75%) |     3 (  3.30%) |     2 (  3.70%) |    34 ( 33.01%)\n",
      "    1 |    46 (  6.12%) |     0 (  0.00%) |    12 ( 22.22%) |    65 ( 63.11%)\n",
      "    2 |     0 (  0.00%) |     0 (  0.00%) |     2 (  3.70%) |     0 (  0.00%)\n",
      "    3 |     1 (  0.13%) |    88 ( 96.70%) |    38 ( 70.37%) |     4 (  3.88%)\n",
      "--------------------------------------------------------------------------------\n",
      "purity = 86.00%\n",
      "--------------------------------------------------------------------------------\n"
     ]
    }
   ],
   "source": [
    "import os\n",
    "import numpy as np\n",
    "\n",
    "K = 4\n",
    "CENTROID = 'Centroids.txt'\n",
    "\n",
    "try:\n",
    "    os.remove(CENTROID)\n",
    "except OSError:\n",
    "    pass\n",
    "\n",
    "centroid_points = []\n",
    "for k in xrange(K):\n",
    "    centroid_points.append(np.random.uniform(0.0, 0.40991, 1000)/1000) #generate random centroid-distributions\n",
    "        \n",
    "with open(CENTROID, 'w+') as f:\n",
    "        f.writelines(','.join(str(j) for j in i) + '\\n' for i in centroid_points)\n",
    "        \n",
    "kmeans(K, centroid_points, \"Output_45a\")"
   ]
  },
  {
   "cell_type": "markdown",
   "metadata": {},
   "source": [
    "K=4 uniform random centroid distribution setting resulted in a purity score of 86.00%. Human (93.75% in cluster 0) and Cyborg (96.70% in cluster 0) classifications had the highest percentage of classifications in a cluster, while there was more uncertainty for the Robot (70.37% in cluster 3) and Spammer (63.11% in cluster 1) classifications. The groupings seem to indicate that Cyborg and Robot classifications overlap/share many similarities, and are grouped together in cluster 3."
   ]
  },
  {
   "cell_type": "markdown",
   "metadata": {},
   "source": [
    "### 4.5 B\n",
    "\n",
    "**K=2 perturbation-centroids, randomly perturbed from the aggregated (user-wide) distribution**"
   ]
  },
  {
   "cell_type": "code",
   "execution_count": 16,
   "metadata": {
    "collapsed": false
   },
   "outputs": [
    {
     "name": "stderr",
     "output_type": "stream",
     "text": [
      "WARNING:mrjob.runner:\n",
      "WARNING:mrjob.runner:PLEASE NOTE: Starting in mrjob v0.5.0, protocols will be strict by default. It's recommended you run your job with --strict-protocols or set up mrjob.conf as described at https://pythonhosted.org/mrjob/whats-new.html#ready-for-strict-protocols\n",
      "WARNING:mrjob.runner:\n",
      "WARNING:mrjob.step:MRJobStep has been renamed to MRStep. The old name will be removed in v0.5.0.\n",
      "WARNING:mrjob.step:MRJobStep has been renamed to MRStep. The old name will be removed in v0.5.0.\n",
      "WARNING:mrjob.step:MRJobStep has been renamed to MRStep. The old name will be removed in v0.5.0.\n",
      "WARNING:mrjob.step:MRJobStep has been renamed to MRStep. The old name will be removed in v0.5.0.\n",
      "WARNING:mrjob.step:MRJobStep has been renamed to MRStep. The old name will be removed in v0.5.0.\n",
      "WARNING:mrjob.step:MRJobStep has been renamed to MRStep. The old name will be removed in v0.5.0.\n",
      "WARNING:mrjob.step:MRJobStep has been renamed to MRStep. The old name will be removed in v0.5.0.\n",
      "WARNING:mrjob.runner:\n",
      "WARNING:mrjob.runner:PLEASE NOTE: Starting in mrjob v0.5.0, protocols will be strict by default. It's recommended you run your job with --strict-protocols or set up mrjob.conf as described at https://pythonhosted.org/mrjob/whats-new.html#ready-for-strict-protocols\n",
      "WARNING:mrjob.runner:\n",
      "WARNING:mrjob.step:MRJobStep has been renamed to MRStep. The old name will be removed in v0.5.0.\n",
      "WARNING:mrjob.step:MRJobStep has been renamed to MRStep. The old name will be removed in v0.5.0.\n",
      "WARNING:mrjob.step:MRJobStep has been renamed to MRStep. The old name will be removed in v0.5.0.\n",
      "WARNING:mrjob.step:MRJobStep has been renamed to MRStep. The old name will be removed in v0.5.0.\n",
      "WARNING:mrjob.step:MRJobStep has been renamed to MRStep. The old name will be removed in v0.5.0.\n",
      "WARNING:mrjob.step:MRJobStep has been renamed to MRStep. The old name will be removed in v0.5.0.\n",
      "WARNING:mrjob.step:MRJobStep has been renamed to MRStep. The old name will be removed in v0.5.0.\n"
     ]
    },
    {
     "name": "stdout",
     "output_type": "stream",
     "text": [
      "working.\n",
      "working.."
     ]
    },
    {
     "name": "stderr",
     "output_type": "stream",
     "text": [
      "WARNING:mrjob.runner:\n",
      "WARNING:mrjob.runner:PLEASE NOTE: Starting in mrjob v0.5.0, protocols will be strict by default. It's recommended you run your job with --strict-protocols or set up mrjob.conf as described at https://pythonhosted.org/mrjob/whats-new.html#ready-for-strict-protocols\n",
      "WARNING:mrjob.runner:\n",
      "WARNING:mrjob.step:MRJobStep has been renamed to MRStep. The old name will be removed in v0.5.0.\n",
      "WARNING:mrjob.step:MRJobStep has been renamed to MRStep. The old name will be removed in v0.5.0.\n",
      "WARNING:mrjob.step:MRJobStep has been renamed to MRStep. The old name will be removed in v0.5.0.\n",
      "WARNING:mrjob.step:MRJobStep has been renamed to MRStep. The old name will be removed in v0.5.0.\n",
      "WARNING:mrjob.step:MRJobStep has been renamed to MRStep. The old name will be removed in v0.5.0.\n",
      "WARNING:mrjob.step:MRJobStep has been renamed to MRStep. The old name will be removed in v0.5.0.\n",
      "WARNING:mrjob.step:MRJobStep has been renamed to MRStep. The old name will be removed in v0.5.0.\n"
     ]
    },
    {
     "name": "stdout",
     "output_type": "stream",
     "text": [
      "\n",
      "working..."
     ]
    },
    {
     "name": "stderr",
     "output_type": "stream",
     "text": [
      "WARNING:mrjob.runner:\n",
      "WARNING:mrjob.runner:PLEASE NOTE: Starting in mrjob v0.5.0, protocols will be strict by default. It's recommended you run your job with --strict-protocols or set up mrjob.conf as described at https://pythonhosted.org/mrjob/whats-new.html#ready-for-strict-protocols\n",
      "WARNING:mrjob.runner:\n",
      "WARNING:mrjob.step:MRJobStep has been renamed to MRStep. The old name will be removed in v0.5.0.\n",
      "WARNING:mrjob.step:MRJobStep has been renamed to MRStep. The old name will be removed in v0.5.0.\n",
      "WARNING:mrjob.step:MRJobStep has been renamed to MRStep. The old name will be removed in v0.5.0.\n",
      "WARNING:mrjob.step:MRJobStep has been renamed to MRStep. The old name will be removed in v0.5.0.\n",
      "WARNING:mrjob.step:MRJobStep has been renamed to MRStep. The old name will be removed in v0.5.0.\n",
      "WARNING:mrjob.step:MRJobStep has been renamed to MRStep. The old name will be removed in v0.5.0.\n",
      "WARNING:mrjob.step:MRJobStep has been renamed to MRStep. The old name will be removed in v0.5.0.\n"
     ]
    },
    {
     "name": "stdout",
     "output_type": "stream",
     "text": [
      "\n",
      "working....\n",
      "cluster distribution\n",
      "--------------------------------------------------------------------------------\n",
      "iteration # 4\n",
      "--------------------------------------------------------------------------------\n",
      "    k |   752 Human (%) |   91 Cyborg (%) |    54 Robot (%) | 103 Spammer (%)\n",
      "--------------------------------------------------------------------------------\n",
      "    0 |   751 ( 99.87%) |     3 (  3.30%) |    14 ( 25.93%) |    99 ( 96.12%)\n",
      "    1 |     1 (  0.13%) |    88 ( 96.70%) |    40 ( 74.07%) |     4 (  3.88%)\n",
      "--------------------------------------------------------------------------------\n",
      "purity = 83.90%\n",
      "--------------------------------------------------------------------------------\n"
     ]
    }
   ],
   "source": [
    "import os\n",
    "import numpy as np\n",
    "\n",
    "K = 2\n",
    "CENTROID = 'Centroids.txt'\n",
    "output_file = \"Output_45b.txt\"\n",
    "\n",
    "try:\n",
    "    os.remove(output_file)\n",
    "except OSError:\n",
    "    pass\n",
    "\n",
    "centroid_points = []\n",
    "with open('topUsers_Apr-Jul_2014_1000-words_summaries.txt', 'r') as f:\n",
    "    for line in f:\n",
    "        if line.startswith('ALL_CODES'):\n",
    "            elements = line.strip().split(\",\")\n",
    "            total = int(elements[2])\n",
    "            array = [int(e) * 1.0 / total for e in elements[3:]]\n",
    "            for k in xrange(K):\n",
    "                centroid_points.append(array)\n",
    "            break;\n",
    "\n",
    "# Add Random Noise\n",
    "centroid_points = centroid_points + np.random.sample(K * 1000).reshape(K, 1000)\n",
    "for k in xrange(K):\n",
    "    # Normalize Again\n",
    "    centroid_points[k] = centroid_points[k] * 1.0 / np.sum(centroid_points[k])\n",
    "\n",
    "with open(CENTROID, 'w+') as f:\n",
    "        f.writelines(','.join(str(j) for j in i) + '\\n' for i in centroid_points)\n",
    "\n",
    "kmeans(K, centroid_points, output_file)"
   ]
  },
  {
   "cell_type": "markdown",
   "metadata": {},
   "source": [
    "Using 2 perturbation-centroids instead of 4 ends up grouping Cyborg and Robot classifications together again, this time at a higher % for each. Spammer and Humans are grouped together with near 100% class membership for both in cluster 0. The purity score dropped only slightly, indicating that using 2 perturbation-centroid clusters accurately captured almost as much of the majority classes for each cluster as the 4 uniform random centroid-distribution setting. The K-Means algorithm also reached conversion at 4 iterations compared to 6 for 4.5A, indicating that the initialization of centroids using 2 perturbation centroids placed the centroids at a initial position closer to their eventual local minima position. "
   ]
  },
  {
   "cell_type": "markdown",
   "metadata": {},
   "source": [
    "### 4.5 C\n",
    "\n",
    "**K=4 perturbation-centroids, randomly perturbed from the aggregated (user-wide) distribution**"
   ]
  },
  {
   "cell_type": "code",
   "execution_count": 17,
   "metadata": {
    "collapsed": false
   },
   "outputs": [
    {
     "name": "stderr",
     "output_type": "stream",
     "text": [
      "WARNING:mrjob.runner:\n",
      "WARNING:mrjob.runner:PLEASE NOTE: Starting in mrjob v0.5.0, protocols will be strict by default. It's recommended you run your job with --strict-protocols or set up mrjob.conf as described at https://pythonhosted.org/mrjob/whats-new.html#ready-for-strict-protocols\n",
      "WARNING:mrjob.runner:\n",
      "WARNING:mrjob.step:MRJobStep has been renamed to MRStep. The old name will be removed in v0.5.0.\n",
      "WARNING:mrjob.step:MRJobStep has been renamed to MRStep. The old name will be removed in v0.5.0.\n",
      "WARNING:mrjob.step:MRJobStep has been renamed to MRStep. The old name will be removed in v0.5.0.\n",
      "WARNING:mrjob.step:MRJobStep has been renamed to MRStep. The old name will be removed in v0.5.0.\n",
      "WARNING:mrjob.step:MRJobStep has been renamed to MRStep. The old name will be removed in v0.5.0.\n",
      "WARNING:mrjob.step:MRJobStep has been renamed to MRStep. The old name will be removed in v0.5.0.\n",
      "WARNING:mrjob.step:MRJobStep has been renamed to MRStep. The old name will be removed in v0.5.0.\n",
      "WARNING:mrjob.runner:\n",
      "WARNING:mrjob.runner:PLEASE NOTE: Starting in mrjob v0.5.0, protocols will be strict by default. It's recommended you run your job with --strict-protocols or set up mrjob.conf as described at https://pythonhosted.org/mrjob/whats-new.html#ready-for-strict-protocols\n",
      "WARNING:mrjob.runner:\n",
      "WARNING:mrjob.step:MRJobStep has been renamed to MRStep. The old name will be removed in v0.5.0.\n",
      "WARNING:mrjob.step:MRJobStep has been renamed to MRStep. The old name will be removed in v0.5.0.\n",
      "WARNING:mrjob.step:MRJobStep has been renamed to MRStep. The old name will be removed in v0.5.0.\n",
      "WARNING:mrjob.step:MRJobStep has been renamed to MRStep. The old name will be removed in v0.5.0.\n",
      "WARNING:mrjob.step:MRJobStep has been renamed to MRStep. The old name will be removed in v0.5.0.\n",
      "WARNING:mrjob.step:MRJobStep has been renamed to MRStep. The old name will be removed in v0.5.0.\n",
      "WARNING:mrjob.step:MRJobStep has been renamed to MRStep. The old name will be removed in v0.5.0.\n"
     ]
    },
    {
     "name": "stdout",
     "output_type": "stream",
     "text": [
      "working.\n",
      "working.."
     ]
    },
    {
     "name": "stderr",
     "output_type": "stream",
     "text": [
      "WARNING:mrjob.runner:\n",
      "WARNING:mrjob.runner:PLEASE NOTE: Starting in mrjob v0.5.0, protocols will be strict by default. It's recommended you run your job with --strict-protocols or set up mrjob.conf as described at https://pythonhosted.org/mrjob/whats-new.html#ready-for-strict-protocols\n",
      "WARNING:mrjob.runner:\n",
      "WARNING:mrjob.step:MRJobStep has been renamed to MRStep. The old name will be removed in v0.5.0.\n",
      "WARNING:mrjob.step:MRJobStep has been renamed to MRStep. The old name will be removed in v0.5.0.\n",
      "WARNING:mrjob.step:MRJobStep has been renamed to MRStep. The old name will be removed in v0.5.0.\n",
      "WARNING:mrjob.step:MRJobStep has been renamed to MRStep. The old name will be removed in v0.5.0.\n",
      "WARNING:mrjob.step:MRJobStep has been renamed to MRStep. The old name will be removed in v0.5.0.\n",
      "WARNING:mrjob.step:MRJobStep has been renamed to MRStep. The old name will be removed in v0.5.0.\n",
      "WARNING:mrjob.step:MRJobStep has been renamed to MRStep. The old name will be removed in v0.5.0.\n"
     ]
    },
    {
     "name": "stdout",
     "output_type": "stream",
     "text": [
      "\n",
      "working..."
     ]
    },
    {
     "name": "stderr",
     "output_type": "stream",
     "text": [
      "WARNING:mrjob.runner:\n",
      "WARNING:mrjob.runner:PLEASE NOTE: Starting in mrjob v0.5.0, protocols will be strict by default. It's recommended you run your job with --strict-protocols or set up mrjob.conf as described at https://pythonhosted.org/mrjob/whats-new.html#ready-for-strict-protocols\n",
      "WARNING:mrjob.runner:\n",
      "WARNING:mrjob.step:MRJobStep has been renamed to MRStep. The old name will be removed in v0.5.0.\n",
      "WARNING:mrjob.step:MRJobStep has been renamed to MRStep. The old name will be removed in v0.5.0.\n",
      "WARNING:mrjob.step:MRJobStep has been renamed to MRStep. The old name will be removed in v0.5.0.\n",
      "WARNING:mrjob.step:MRJobStep has been renamed to MRStep. The old name will be removed in v0.5.0.\n",
      "WARNING:mrjob.step:MRJobStep has been renamed to MRStep. The old name will be removed in v0.5.0.\n",
      "WARNING:mrjob.step:MRJobStep has been renamed to MRStep. The old name will be removed in v0.5.0.\n",
      "WARNING:mrjob.step:MRJobStep has been renamed to MRStep. The old name will be removed in v0.5.0.\n"
     ]
    },
    {
     "name": "stdout",
     "output_type": "stream",
     "text": [
      "\n",
      "working...."
     ]
    },
    {
     "name": "stderr",
     "output_type": "stream",
     "text": [
      "WARNING:mrjob.runner:\n",
      "WARNING:mrjob.runner:PLEASE NOTE: Starting in mrjob v0.5.0, protocols will be strict by default. It's recommended you run your job with --strict-protocols or set up mrjob.conf as described at https://pythonhosted.org/mrjob/whats-new.html#ready-for-strict-protocols\n",
      "WARNING:mrjob.runner:\n",
      "WARNING:mrjob.step:MRJobStep has been renamed to MRStep. The old name will be removed in v0.5.0.\n",
      "WARNING:mrjob.step:MRJobStep has been renamed to MRStep. The old name will be removed in v0.5.0.\n",
      "WARNING:mrjob.step:MRJobStep has been renamed to MRStep. The old name will be removed in v0.5.0.\n",
      "WARNING:mrjob.step:MRJobStep has been renamed to MRStep. The old name will be removed in v0.5.0.\n",
      "WARNING:mrjob.step:MRJobStep has been renamed to MRStep. The old name will be removed in v0.5.0.\n",
      "WARNING:mrjob.step:MRJobStep has been renamed to MRStep. The old name will be removed in v0.5.0.\n",
      "WARNING:mrjob.step:MRJobStep has been renamed to MRStep. The old name will be removed in v0.5.0.\n"
     ]
    },
    {
     "name": "stdout",
     "output_type": "stream",
     "text": [
      "\n",
      "working....."
     ]
    },
    {
     "name": "stderr",
     "output_type": "stream",
     "text": [
      "WARNING:mrjob.runner:\n",
      "WARNING:mrjob.runner:PLEASE NOTE: Starting in mrjob v0.5.0, protocols will be strict by default. It's recommended you run your job with --strict-protocols or set up mrjob.conf as described at https://pythonhosted.org/mrjob/whats-new.html#ready-for-strict-protocols\n",
      "WARNING:mrjob.runner:\n",
      "WARNING:mrjob.step:MRJobStep has been renamed to MRStep. The old name will be removed in v0.5.0.\n",
      "WARNING:mrjob.step:MRJobStep has been renamed to MRStep. The old name will be removed in v0.5.0.\n",
      "WARNING:mrjob.step:MRJobStep has been renamed to MRStep. The old name will be removed in v0.5.0.\n",
      "WARNING:mrjob.step:MRJobStep has been renamed to MRStep. The old name will be removed in v0.5.0.\n",
      "WARNING:mrjob.step:MRJobStep has been renamed to MRStep. The old name will be removed in v0.5.0.\n",
      "WARNING:mrjob.step:MRJobStep has been renamed to MRStep. The old name will be removed in v0.5.0.\n",
      "WARNING:mrjob.step:MRJobStep has been renamed to MRStep. The old name will be removed in v0.5.0.\n"
     ]
    },
    {
     "name": "stdout",
     "output_type": "stream",
     "text": [
      "\n",
      "working......\n",
      "cluster distribution\n",
      "--------------------------------------------------------------------------------\n",
      "iteration # 6\n",
      "--------------------------------------------------------------------------------\n",
      "    k |   752 Human (%) |   91 Cyborg (%) |    54 Robot (%) | 103 Spammer (%)\n",
      "--------------------------------------------------------------------------------\n",
      "    0 |     0 (  0.00%) |     2 (  2.20%) |     9 ( 16.67%) |     0 (  0.00%)\n",
      "    1 |   751 ( 99.87%) |     3 (  3.30%) |     9 ( 16.67%) |    99 ( 96.12%)\n",
      "    2 |     0 (  0.00%) |    51 ( 56.04%) |     0 (  0.00%) |     0 (  0.00%)\n",
      "    3 |     1 (  0.13%) |    35 ( 38.46%) |    36 ( 66.67%) |     4 (  3.88%)\n",
      "--------------------------------------------------------------------------------\n",
      "purity = 84.70%\n",
      "--------------------------------------------------------------------------------\n"
     ]
    }
   ],
   "source": [
    "import os\n",
    "import numpy as np\n",
    "\n",
    "K = 4\n",
    "CENTROID = 'Centroids.txt'\n",
    "output_file = \"Output_45c.txt\"\n",
    "\n",
    "try:\n",
    "    os.remove(output_file)\n",
    "except OSError:\n",
    "    pass\n",
    "\n",
    "centroid_points = []\n",
    "with open('topUsers_Apr-Jul_2014_1000-words_summaries.txt', 'r') as f:\n",
    "    for line in f:\n",
    "        if line.startswith('ALL_CODES'):\n",
    "            elements = line.strip().split(\",\")\n",
    "            total = int(elements[2])\n",
    "            array = [int(e) * 1.0 / total for e in elements[3:]]\n",
    "            for k in xrange(K):\n",
    "                centroid_points.append(array)\n",
    "            break;\n",
    "\n",
    "# Add Random Noise\n",
    "centroid_points = centroid_points + np.random.sample(K * 1000).reshape(K, 1000) \n",
    "for k in xrange(K):\n",
    "    # Normalize Again\n",
    "    centroid_points[k] = centroid_points[k] * 1.0 / np.sum(centroid_points[k])\n",
    "\n",
    "with open(CENTROID, 'w+') as f:\n",
    "        f.writelines(','.join(str(j) for j in i) + '\\n' for i in centroid_points)\n",
    "\n",
    "kmeans(K, centroid_points, output_file)"
   ]
  },
  {
   "cell_type": "markdown",
   "metadata": {},
   "source": [
    "4 perturbation-centroids generated a model that resulted in classification groupings similar to 4.5A, except with Cyborg and Robot grouped in cluster 2 instead of cluster 0. This model also resulted in the highest purity score for the Spammer classification, but also the highest entropy for Cyborg and Robot classifications. This setting also took 6 iterations, which could be a function of the 2 additional centroids compared to 4.5B and the increased uncertainty of classifying the Cyborg and Robot points."
   ]
  },
  {
   "cell_type": "markdown",
   "metadata": {},
   "source": [
    "### 4.5 D\n",
    "\n",
    "**K=4 \"trained\" centroids, determined by the sums across the classes**"
   ]
  },
  {
   "cell_type": "code",
   "execution_count": 18,
   "metadata": {
    "collapsed": false
   },
   "outputs": [
    {
     "name": "stderr",
     "output_type": "stream",
     "text": [
      "WARNING:mrjob.runner:\n",
      "WARNING:mrjob.runner:PLEASE NOTE: Starting in mrjob v0.5.0, protocols will be strict by default. It's recommended you run your job with --strict-protocols or set up mrjob.conf as described at https://pythonhosted.org/mrjob/whats-new.html#ready-for-strict-protocols\n",
      "WARNING:mrjob.runner:\n",
      "WARNING:mrjob.step:MRJobStep has been renamed to MRStep. The old name will be removed in v0.5.0.\n",
      "WARNING:mrjob.step:MRJobStep has been renamed to MRStep. The old name will be removed in v0.5.0.\n",
      "WARNING:mrjob.step:MRJobStep has been renamed to MRStep. The old name will be removed in v0.5.0.\n",
      "WARNING:mrjob.step:MRJobStep has been renamed to MRStep. The old name will be removed in v0.5.0.\n",
      "WARNING:mrjob.step:MRJobStep has been renamed to MRStep. The old name will be removed in v0.5.0.\n",
      "WARNING:mrjob.step:MRJobStep has been renamed to MRStep. The old name will be removed in v0.5.0.\n",
      "WARNING:mrjob.step:MRJobStep has been renamed to MRStep. The old name will be removed in v0.5.0.\n",
      "WARNING:mrjob.runner:\n",
      "WARNING:mrjob.runner:PLEASE NOTE: Starting in mrjob v0.5.0, protocols will be strict by default. It's recommended you run your job with --strict-protocols or set up mrjob.conf as described at https://pythonhosted.org/mrjob/whats-new.html#ready-for-strict-protocols\n",
      "WARNING:mrjob.runner:\n",
      "WARNING:mrjob.step:MRJobStep has been renamed to MRStep. The old name will be removed in v0.5.0.\n",
      "WARNING:mrjob.step:MRJobStep has been renamed to MRStep. The old name will be removed in v0.5.0.\n",
      "WARNING:mrjob.step:MRJobStep has been renamed to MRStep. The old name will be removed in v0.5.0.\n",
      "WARNING:mrjob.step:MRJobStep has been renamed to MRStep. The old name will be removed in v0.5.0.\n",
      "WARNING:mrjob.step:MRJobStep has been renamed to MRStep. The old name will be removed in v0.5.0.\n",
      "WARNING:mrjob.step:MRJobStep has been renamed to MRStep. The old name will be removed in v0.5.0.\n",
      "WARNING:mrjob.step:MRJobStep has been renamed to MRStep. The old name will be removed in v0.5.0.\n"
     ]
    },
    {
     "name": "stdout",
     "output_type": "stream",
     "text": [
      "working.\n",
      "working.."
     ]
    },
    {
     "name": "stderr",
     "output_type": "stream",
     "text": [
      "WARNING:mrjob.runner:\n",
      "WARNING:mrjob.runner:PLEASE NOTE: Starting in mrjob v0.5.0, protocols will be strict by default. It's recommended you run your job with --strict-protocols or set up mrjob.conf as described at https://pythonhosted.org/mrjob/whats-new.html#ready-for-strict-protocols\n",
      "WARNING:mrjob.runner:\n",
      "WARNING:mrjob.step:MRJobStep has been renamed to MRStep. The old name will be removed in v0.5.0.\n",
      "WARNING:mrjob.step:MRJobStep has been renamed to MRStep. The old name will be removed in v0.5.0.\n",
      "WARNING:mrjob.step:MRJobStep has been renamed to MRStep. The old name will be removed in v0.5.0.\n",
      "WARNING:mrjob.step:MRJobStep has been renamed to MRStep. The old name will be removed in v0.5.0.\n",
      "WARNING:mrjob.step:MRJobStep has been renamed to MRStep. The old name will be removed in v0.5.0.\n",
      "WARNING:mrjob.step:MRJobStep has been renamed to MRStep. The old name will be removed in v0.5.0.\n",
      "WARNING:mrjob.step:MRJobStep has been renamed to MRStep. The old name will be removed in v0.5.0.\n"
     ]
    },
    {
     "name": "stdout",
     "output_type": "stream",
     "text": [
      "\n",
      "working..."
     ]
    },
    {
     "name": "stderr",
     "output_type": "stream",
     "text": [
      "WARNING:mrjob.runner:\n",
      "WARNING:mrjob.runner:PLEASE NOTE: Starting in mrjob v0.5.0, protocols will be strict by default. It's recommended you run your job with --strict-protocols or set up mrjob.conf as described at https://pythonhosted.org/mrjob/whats-new.html#ready-for-strict-protocols\n",
      "WARNING:mrjob.runner:\n",
      "WARNING:mrjob.step:MRJobStep has been renamed to MRStep. The old name will be removed in v0.5.0.\n",
      "WARNING:mrjob.step:MRJobStep has been renamed to MRStep. The old name will be removed in v0.5.0.\n",
      "WARNING:mrjob.step:MRJobStep has been renamed to MRStep. The old name will be removed in v0.5.0.\n",
      "WARNING:mrjob.step:MRJobStep has been renamed to MRStep. The old name will be removed in v0.5.0.\n",
      "WARNING:mrjob.step:MRJobStep has been renamed to MRStep. The old name will be removed in v0.5.0.\n",
      "WARNING:mrjob.step:MRJobStep has been renamed to MRStep. The old name will be removed in v0.5.0.\n",
      "WARNING:mrjob.step:MRJobStep has been renamed to MRStep. The old name will be removed in v0.5.0.\n"
     ]
    },
    {
     "name": "stdout",
     "output_type": "stream",
     "text": [
      "\n",
      "working...."
     ]
    },
    {
     "name": "stderr",
     "output_type": "stream",
     "text": [
      "WARNING:mrjob.runner:\n",
      "WARNING:mrjob.runner:PLEASE NOTE: Starting in mrjob v0.5.0, protocols will be strict by default. It's recommended you run your job with --strict-protocols or set up mrjob.conf as described at https://pythonhosted.org/mrjob/whats-new.html#ready-for-strict-protocols\n",
      "WARNING:mrjob.runner:\n",
      "WARNING:mrjob.step:MRJobStep has been renamed to MRStep. The old name will be removed in v0.5.0.\n",
      "WARNING:mrjob.step:MRJobStep has been renamed to MRStep. The old name will be removed in v0.5.0.\n",
      "WARNING:mrjob.step:MRJobStep has been renamed to MRStep. The old name will be removed in v0.5.0.\n",
      "WARNING:mrjob.step:MRJobStep has been renamed to MRStep. The old name will be removed in v0.5.0.\n",
      "WARNING:mrjob.step:MRJobStep has been renamed to MRStep. The old name will be removed in v0.5.0.\n",
      "WARNING:mrjob.step:MRJobStep has been renamed to MRStep. The old name will be removed in v0.5.0.\n",
      "WARNING:mrjob.step:MRJobStep has been renamed to MRStep. The old name will be removed in v0.5.0.\n"
     ]
    },
    {
     "name": "stdout",
     "output_type": "stream",
     "text": [
      "\n",
      "working.....\n",
      "cluster distribution\n",
      "--------------------------------------------------------------------------------\n",
      "iteration # 5\n",
      "--------------------------------------------------------------------------------\n",
      "    k |   752 Human (%) |   91 Cyborg (%) |    54 Robot (%) | 103 Spammer (%)\n",
      "--------------------------------------------------------------------------------\n",
      "    0 |   749 ( 99.60%) |     3 (  3.30%) |    14 ( 25.93%) |    38 ( 36.89%)\n",
      "    1 |     0 (  0.00%) |    51 ( 56.04%) |     0 (  0.00%) |     0 (  0.00%)\n",
      "    2 |     1 (  0.13%) |    37 ( 40.66%) |    40 ( 74.07%) |     4 (  3.88%)\n",
      "    3 |     2 (  0.27%) |     0 (  0.00%) |     0 (  0.00%) |    61 ( 59.22%)\n",
      "--------------------------------------------------------------------------------\n",
      "purity = 90.10%\n",
      "--------------------------------------------------------------------------------\n"
     ]
    }
   ],
   "source": [
    "import os\n",
    "import numpy as np\n",
    "\n",
    "K = 4 #number of centroids\n",
    "CENTROID = 'Centroids.txt'\n",
    "output_file = \"Output_45d.txt\" #create output file\n",
    "\n",
    "try:\n",
    "    os.remove(output_file)\n",
    "except OSError:\n",
    "    pass\n",
    "\n",
    "centroid_points = []\n",
    "with open('topUsers_Apr-Jul_2014_1000-words_summaries.txt', 'r') as f:\n",
    "    for line in f:\n",
    "        if line.startswith('CODE'):\n",
    "            elements = line.strip().split(\",\")\n",
    "            total = int(elements[2]) #total\n",
    "            array = [int(e) * 1.0 / total for e in elements[3:]] #sum across classes\n",
    "            centroid_points.append(array)\n",
    "\n",
    "with open(CENTROID, 'w+') as f:\n",
    "        f.writelines(','.join(str(j) for j in i) + '\\n' for i in centroid_points)\n",
    "\n",
    "kmeans(K, centroid_points, output_file)"
   ]
  },
  {
   "cell_type": "markdown",
   "metadata": {},
   "source": [
    "4 trained centroids results in a 90.10% purity score, which is marginally better than the 4 perturbation centroid setting. Human classification is almost perfect, which generates the higher overall purity score due to there being many more true Human classifications and having an almost perfect purity score for Human. Only 5 iterations to reach the threshold convergence even with 4 centroids, which makes sense because \"trained\" centroids should lead to initialization at points closer to local minimas."
   ]
  }
 ],
 "metadata": {
  "kernelspec": {
   "display_name": "Python 2",
   "language": "python",
   "name": "python2"
  },
  "language_info": {
   "codemirror_mode": {
    "name": "ipython",
    "version": 2
   },
   "file_extension": ".py",
   "mimetype": "text/x-python",
   "name": "python",
   "nbconvert_exporter": "python",
   "pygments_lexer": "ipython2",
   "version": "2.7.10"
  }
 },
 "nbformat": 4,
 "nbformat_minor": 0
}
